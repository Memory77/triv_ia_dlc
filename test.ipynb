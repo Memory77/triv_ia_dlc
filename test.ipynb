{
 "cells": [
  {
   "cell_type": "code",
   "execution_count": 16,
   "metadata": {},
   "outputs": [
    {
     "name": "stdout",
     "output_type": "stream",
     "text": [
      "[[6 1 8 1 4 8 6 8 6 4 1 8 8 1 6 6 6 8 6 1 8 4 6 4 4]\n",
      " [1 1 8 8 8 8 6 8 6 8 4 1 4 4 8 8 1 4 6 6 4 8 4 6 8]\n",
      " [1 6 6 4 6 8 1 1 4 6 6 4 4 8 8 8 4 6 4 6 1 4 6 1 8]\n",
      " [8 4 6 1 4 6 4 6 8 1 6 1 6 6 6 1 6 6 8 4 4 1 8 8 1]\n",
      " [4 4 1 1 8 4 1 6 6 4 6 6 6 1 4 6 4 4 6 1 1 8 8 1 6]\n",
      " [8 6 4 8 8 4 6 1 4 4 1 6 4 6 8 6 6 4 4 6 4 1 1 4 1]\n",
      " [8 1 4 6 4 4 8 4 8 1 4 1 1 8 1 4 6 6 4 1 1 4 8 6 1]\n",
      " [8 6 1 4 4 6 8 1 1 6 1 6 6 1 4 8 6 4 1 8 6 8 4 1 8]\n",
      " [1 1 6 1 6 1 4 6 8 8 8 1 1 4 6 4 1 4 4 1 8 1 6 1 8]\n",
      " [6 4 1 8 6 1 8 6 8 4 8 1 1 8 6 4 4 6 4 4 4 6 8 4 6]\n",
      " [4 4 8 1 6 4 8 1 4 4 8 6 8 1 1 4 6 6 1 8 6 1 1 1 1]\n",
      " [6 4 1 1 4 1 8 8 8 4 6 8 1 4 8 6 1 4 4 4 8 8 6 8 8]\n",
      " [4 4 8 6 8 4 4 4 8 1 8 1 6 8 1 8 4 1 8 1 1 8 8 8 6]\n",
      " [6 6 4 8 4 1 6 1 8 1 1 8 6 4 8 1 1 8 4 8 8 1 4 4 8]\n",
      " [1 6 8 6 6 4 6 6 8 8 1 8 4 8 6 8 4 6 4 1 1 1 8 1 6]] 6\n"
     ]
    }
   ],
   "source": [
    "import numpy as np\n",
    "\n",
    "#étape 0 : definition du tableau\n",
    "\n",
    "cat_id = [1, 6, 4, 8]\n",
    "\n",
    "random_int = np.random.choice(cat_id, size=(15, 25))\n",
    "\n",
    "random_int\n",
    "\n",
    "print(random_int, random_int[0,0])\n",
    "\n",
    "#étape 1 : transposer le tableau en affichant pygame"
   ]
  },
  {
   "cell_type": "code",
   "execution_count": null,
   "metadata": {},
   "outputs": [],
   "source": []
  },
  {
   "cell_type": "code",
   "execution_count": null,
   "metadata": {},
   "outputs": [],
   "source": []
  }
 ],
 "metadata": {
  "kernelspec": {
   "display_name": "venv",
   "language": "python",
   "name": "python3"
  },
  "language_info": {
   "codemirror_mode": {
    "name": "ipython",
    "version": 3
   },
   "file_extension": ".py",
   "mimetype": "text/x-python",
   "name": "python",
   "nbconvert_exporter": "python",
   "pygments_lexer": "ipython3",
   "version": "3.10.12"
  }
 },
 "nbformat": 4,
 "nbformat_minor": 2
}
