{
 "cells": [
  {
   "cell_type": "code",
   "execution_count": 5,
   "metadata": {},
   "outputs": [],
   "source": [
    "import sqlite3\n",
    "conn = sqlite3.connect('triv_ia_dlc.db')\n",
    "cur = conn.cursor()\n",
    "cur.execute(\"DELETE FROM categorie\")\n",
    "cur.execute(\"INSERT INTO categorie VALUES ('catégorie 1', 255, 105, 180)\")\n",
    "cur.execute(\"INSERT INTO categorie VALUES ('catégorie 2', 119, 221, 119)\")\n",
    "cur.execute(\"INSERT INTO categorie VALUES ('catégorie 3', 10, 210, 255)\")\n",
    "cur.execute(\"INSERT INTO categorie VALUES ('catégorie 4', 255, 255, 102)\")\n",
    "cur.execute(\"INSERT INTO categorie VALUES ('catégorie 5', 190, 35, 253)\")\n",
    "# cur.execute(\"INSERT INTO categorie VALUES ('catégorie 6', 18, 12, 58)\")\n",
    "cur.execute(\"DELETE FROM question_answer\")\n",
    "cur.execute(\"INSERT INTO question_answer VALUES ('catégorie 1', 'question 1', 'réponse 1', 1)\")\n",
    "cur.execute(\"INSERT INTO question_answer VALUES ('catégorie 1', 'question 1', 'réponse 2', 0)\")\n",
    "cur.execute(\"INSERT INTO question_answer VALUES ('catégorie 1', 'question 2', 'réponse 1', 0)\")\n",
    "cur.execute(\"INSERT INTO question_answer VALUES ('catégorie 1', 'question 2', 'réponse 2', 1)\")\n",
    "cur.execute(\"INSERT INTO question_answer VALUES ('catégorie 2', 'question 3', 'réponse 1', 0)\")\n",
    "cur.execute(\"INSERT INTO question_answer VALUES ('catégorie 2', 'question 3', 'réponse 2', 1)\")\n",
    "cur.execute(\"INSERT INTO question_answer VALUES ('catégorie 2', 'question 3', 'réponse 3', 0)\")\n",
    "cur.execute(\"INSERT INTO question_answer VALUES ('catégorie 2', 'question 4', 'réponse 1', 0)\")\n",
    "cur.execute(\"INSERT INTO question_answer VALUES ('catégorie 2', 'question 4', 'réponse 2', 1)\")\n",
    "cur.execute(\"INSERT INTO question_answer VALUES ('catégorie 2', 'question 4', 'réponse 3', 0)\")\n",
    "cur.execute(\"INSERT INTO question_answer VALUES ('catégorie 2', 'question 4', 'réponse 4', 1)\")\n",
    "conn.commit()\n",
    "conn.close()"
   ]
  }
 ],
 "metadata": {
  "kernelspec": {
   "display_name": "venv",
   "language": "python",
   "name": "python3"
  },
  "language_info": {
   "codemirror_mode": {
    "name": "ipython",
    "version": 3
   },
   "file_extension": ".py",
   "mimetype": "text/x-python",
   "name": "python",
   "nbconvert_exporter": "python",
   "pygments_lexer": "ipython3",
   "version": "3.10.12"
  }
 },
 "nbformat": 4,
 "nbformat_minor": 2
}
